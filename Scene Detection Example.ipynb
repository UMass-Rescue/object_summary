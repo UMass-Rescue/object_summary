{
 "cells": [
  {
   "cell_type": "code",
   "execution_count": 1,
   "metadata": {
    "ExecuteTime": {
     "end_time": "2020-04-24T01:27:28.426864Z",
     "start_time": "2020-04-24T01:27:26.719208Z"
    }
   },
   "outputs": [
    {
     "name": "stderr",
     "output_type": "stream",
     "text": [
      "/home/prasannals/anaconda3/envs/image_features/lib/python3.6/site-packages/tensorflow/python/framework/dtypes.py:523: FutureWarning: Passing (type, 1) or '1type' as a synonym of type is deprecated; in a future version of numpy, it will be understood as (type, (1,)) / '(1,)type'.\n",
      "  _np_qint8 = np.dtype([(\"qint8\", np.int8, 1)])\n",
      "/home/prasannals/anaconda3/envs/image_features/lib/python3.6/site-packages/tensorflow/python/framework/dtypes.py:524: FutureWarning: Passing (type, 1) or '1type' as a synonym of type is deprecated; in a future version of numpy, it will be understood as (type, (1,)) / '(1,)type'.\n",
      "  _np_quint8 = np.dtype([(\"quint8\", np.uint8, 1)])\n",
      "/home/prasannals/anaconda3/envs/image_features/lib/python3.6/site-packages/tensorflow/python/framework/dtypes.py:525: FutureWarning: Passing (type, 1) or '1type' as a synonym of type is deprecated; in a future version of numpy, it will be understood as (type, (1,)) / '(1,)type'.\n",
      "  _np_qint16 = np.dtype([(\"qint16\", np.int16, 1)])\n",
      "/home/prasannals/anaconda3/envs/image_features/lib/python3.6/site-packages/tensorflow/python/framework/dtypes.py:526: FutureWarning: Passing (type, 1) or '1type' as a synonym of type is deprecated; in a future version of numpy, it will be understood as (type, (1,)) / '(1,)type'.\n",
      "  _np_quint16 = np.dtype([(\"quint16\", np.uint16, 1)])\n",
      "/home/prasannals/anaconda3/envs/image_features/lib/python3.6/site-packages/tensorflow/python/framework/dtypes.py:527: FutureWarning: Passing (type, 1) or '1type' as a synonym of type is deprecated; in a future version of numpy, it will be understood as (type, (1,)) / '(1,)type'.\n",
      "  _np_qint32 = np.dtype([(\"qint32\", np.int32, 1)])\n",
      "/home/prasannals/anaconda3/envs/image_features/lib/python3.6/site-packages/tensorflow/python/framework/dtypes.py:532: FutureWarning: Passing (type, 1) or '1type' as a synonym of type is deprecated; in a future version of numpy, it will be understood as (type, (1,)) / '(1,)type'.\n",
      "  np_resource = np.dtype([(\"resource\", np.ubyte, 1)])\n"
     ]
    }
   ],
   "source": [
    "from pathlib import Path\n",
    "from object_summary import clf_folders_to_df, dump_to_json_file, read_json_from_file\n",
    "#################### IMPORTANT ###############################\n",
    "## the library used for scene detection is not on pypi yet ###\n",
    "## will have to manually install the scene detection library #\n",
    "## using wheel files. Contact author (psubramanyam@umass.edu)# \n",
    "################### for more info ############################\n",
    "##############################################################\n",
    "from object_summary.scene import scene_detect\n",
    "import pandas as pd\n",
    "pd.set_option('display.max_columns', 500)"
   ]
  },
  {
   "cell_type": "code",
   "execution_count": 2,
   "metadata": {
    "ExecuteTime": {
     "end_time": "2020-04-24T01:27:28.430736Z",
     "start_time": "2020-04-24T01:27:28.427913Z"
    }
   },
   "outputs": [],
   "source": [
    "path = Path('data/messy_vs_clean/sample/')\n",
    "out_path = Path('out/messy_or_clean/sample/')\n",
    "out_path.mkdir(exist_ok=True)\n",
    "\n",
    "def ls(path): return [p for p in path.glob('*')]"
   ]
  },
  {
   "cell_type": "markdown",
   "metadata": {},
   "source": [
    "\"path\" variable is the directory containing a list of folders where each folder contains all images of a single category and the name of the folder is the label for the category.\n",
    "\n",
    "\"out_path\" is the path where the output visualizations (if visualize=True in \"objects_in_categories\" method) are stored."
   ]
  },
  {
   "cell_type": "code",
   "execution_count": 3,
   "metadata": {
    "ExecuteTime": {
     "end_time": "2020-04-24T01:27:28.445407Z",
     "start_time": "2020-04-24T01:27:28.431834Z"
    }
   },
   "outputs": [
    {
     "data": {
      "text/plain": [
       "[PosixPath('data/messy_vs_clean/sample/messy'),\n",
       " PosixPath('data/messy_vs_clean/sample/clean')]"
      ]
     },
     "execution_count": 3,
     "metadata": {},
     "output_type": "execute_result"
    }
   ],
   "source": [
    "# here, we're using a small subset from Messy vs Clean dataset from Kaggle\n",
    "# https://www.kaggle.com/cdawn1/messy-vs-clean-room\n",
    "ls(path)"
   ]
  },
  {
   "cell_type": "code",
   "execution_count": 4,
   "metadata": {
    "ExecuteTime": {
     "end_time": "2020-04-24T01:27:28.974281Z",
     "start_time": "2020-04-24T01:27:28.964096Z"
    }
   },
   "outputs": [],
   "source": [
    "# clf_folders_to_df converts the input files into the required format in a DataFrame.\n",
    "# the output of the \"clf_folders_to_df\" will be the input to \"objects_in_categories\" function\n",
    "path_df = clf_folders_to_df(path)"
   ]
  },
  {
   "cell_type": "code",
   "execution_count": 5,
   "metadata": {
    "ExecuteTime": {
     "end_time": "2020-04-24T01:27:29.361338Z",
     "start_time": "2020-04-24T01:27:29.356226Z"
    }
   },
   "outputs": [
    {
     "data": {
      "text/plain": [
       "PosixPath('data/messy_vs_clean/sample')"
      ]
     },
     "execution_count": 5,
     "metadata": {},
     "output_type": "execute_result"
    }
   ],
   "source": [
    "path"
   ]
  },
  {
   "cell_type": "code",
   "execution_count": 6,
   "metadata": {
    "ExecuteTime": {
     "end_time": "2020-04-24T01:27:29.847814Z",
     "start_time": "2020-04-24T01:27:29.831666Z"
    }
   },
   "outputs": [
    {
     "data": {
      "text/plain": [
       "[                                                path category\n",
       " 0  /home/prasannals/object_summary/data/messy_vs_...    messy\n",
       " 1  /home/prasannals/object_summary/data/messy_vs_...    messy,\n",
       "                                                 path category\n",
       " 2  /home/prasannals/object_summary/data/messy_vs_...    clean\n",
       " 3  /home/prasannals/object_summary/data/messy_vs_...    clean]"
      ]
     },
     "execution_count": 6,
     "metadata": {},
     "output_type": "execute_result"
    }
   ],
   "source": [
    "### OPTIONAL - split your \"path_df\" into several equal DataFrames \n",
    "### (useful if you intend to parallely run the code on different machines/GPUs)\n",
    "from object_summary.util import split_df\n",
    "\n",
    "split_df(path_df, 2)"
   ]
  },
  {
   "cell_type": "code",
   "execution_count": 7,
   "metadata": {
    "ExecuteTime": {
     "end_time": "2020-04-24T01:27:30.385621Z",
     "start_time": "2020-04-24T01:27:30.373097Z"
    }
   },
   "outputs": [
    {
     "data": {
      "text/html": [
       "<div>\n",
       "<style scoped>\n",
       "    .dataframe tbody tr th:only-of-type {\n",
       "        vertical-align: middle;\n",
       "    }\n",
       "\n",
       "    .dataframe tbody tr th {\n",
       "        vertical-align: top;\n",
       "    }\n",
       "\n",
       "    .dataframe thead th {\n",
       "        text-align: right;\n",
       "    }\n",
       "</style>\n",
       "<table border=\"1\" class=\"dataframe\">\n",
       "  <thead>\n",
       "    <tr style=\"text-align: right;\">\n",
       "      <th></th>\n",
       "      <th>path</th>\n",
       "      <th>category</th>\n",
       "    </tr>\n",
       "  </thead>\n",
       "  <tbody>\n",
       "    <tr>\n",
       "      <th>0</th>\n",
       "      <td>/home/prasannals/object_summary/data/messy_vs_...</td>\n",
       "      <td>messy</td>\n",
       "    </tr>\n",
       "    <tr>\n",
       "      <th>1</th>\n",
       "      <td>/home/prasannals/object_summary/data/messy_vs_...</td>\n",
       "      <td>messy</td>\n",
       "    </tr>\n",
       "    <tr>\n",
       "      <th>2</th>\n",
       "      <td>/home/prasannals/object_summary/data/messy_vs_...</td>\n",
       "      <td>clean</td>\n",
       "    </tr>\n",
       "    <tr>\n",
       "      <th>3</th>\n",
       "      <td>/home/prasannals/object_summary/data/messy_vs_...</td>\n",
       "      <td>clean</td>\n",
       "    </tr>\n",
       "  </tbody>\n",
       "</table>\n",
       "</div>"
      ],
      "text/plain": [
       "                                                path category\n",
       "0  /home/prasannals/object_summary/data/messy_vs_...    messy\n",
       "1  /home/prasannals/object_summary/data/messy_vs_...    messy\n",
       "2  /home/prasannals/object_summary/data/messy_vs_...    clean\n",
       "3  /home/prasannals/object_summary/data/messy_vs_...    clean"
      ]
     },
     "execution_count": 7,
     "metadata": {},
     "output_type": "execute_result"
    }
   ],
   "source": [
    "path_df"
   ]
  },
  {
   "cell_type": "code",
   "execution_count": 8,
   "metadata": {
    "ExecuteTime": {
     "end_time": "2020-04-24T01:27:33.205838Z",
     "start_time": "2020-04-24T01:27:31.504153Z"
    }
   },
   "outputs": [
    {
     "name": "stderr",
     "output_type": "stream",
     "text": [
      "100%|██████████| 4/4 [00:00<00:00, 54.96it/s]\n"
     ]
    }
   ],
   "source": [
    "res, fmap = scene_detect(path_df, out_path, \n",
    "            'messy_vs_clean_scene_db', 'scene_fmap_db')"
   ]
  },
  {
   "cell_type": "code",
   "execution_count": 9,
   "metadata": {
    "ExecuteTime": {
     "end_time": "2020-04-24T01:27:38.621191Z",
     "start_time": "2020-04-24T01:27:38.613400Z"
    },
    "scrolled": true
   },
   "outputs": [
    {
     "data": {
      "text/plain": [
       "[{'type_of_env': 'indoor',\n",
       "  'scene_categories': {'hospital_room': 0.1790866255760193,\n",
       "   'dorm_room': 0.17294535040855408,\n",
       "   'clean_room': 0.08733513951301575,\n",
       "   'operating_room': 0.07235629111528397,\n",
       "   'storage_room': 0.05732846260070801},\n",
       "  'scene_attributes': ['enclosed area',\n",
       "   'no horizon',\n",
       "   'man-made',\n",
       "   'working',\n",
       "   'cluttered space',\n",
       "   'metal',\n",
       "   'reading',\n",
       "   'cloth',\n",
       "   'wood'],\n",
       "  'file_id': '285da7280747440783b6a88d480ea065',\n",
       "  'category': 'messy'},\n",
       " {'type_of_env': 'indoor',\n",
       "  'scene_categories': {'living_room': 0.6385324001312256,\n",
       "   'waiting_room': 0.1674697995185852,\n",
       "   'dorm_room': 0.06752725690603256,\n",
       "   'recreation_room': 0.04181138798594475,\n",
       "   'artists_loft': 0.015432154759764671},\n",
       "  'scene_attributes': ['enclosed area',\n",
       "   'no horizon',\n",
       "   'man-made',\n",
       "   'wood',\n",
       "   'reading',\n",
       "   'indoor lighting',\n",
       "   'soothing',\n",
       "   'plastic',\n",
       "   'cloth'],\n",
       "  'file_id': '985a6d83e3f24892a8a1a62cf3f34ff4',\n",
       "  'category': 'messy'},\n",
       " {'type_of_env': 'indoor',\n",
       "  'scene_categories': {'living_room': 0.874160885810852,\n",
       "   'waiting_room': 0.07783029973506927,\n",
       "   'artists_loft': 0.020586133003234863,\n",
       "   'bow_window/indoor': 0.009059104137122631,\n",
       "   'television_room': 0.008187145926058292},\n",
       "  'scene_attributes': ['enclosed area',\n",
       "   'no horizon',\n",
       "   'man-made',\n",
       "   'wood',\n",
       "   'reading',\n",
       "   'glass',\n",
       "   'soothing',\n",
       "   'indoor lighting',\n",
       "   'carpet'],\n",
       "  'file_id': '5d3bf0abef7d41b7bcfcff0e2fedfe18',\n",
       "  'category': 'clean'},\n",
       " {'type_of_env': 'indoor',\n",
       "  'scene_categories': {'kitchen': 0.8987187743186951,\n",
       "   'wet_bar': 0.04158741608262062,\n",
       "   'utility_room': 0.02712050825357437,\n",
       "   'galley': 0.025077059864997864,\n",
       "   'restaurant_kitchen': 0.0038689810317009687},\n",
       "  'scene_attributes': ['enclosed area',\n",
       "   'no horizon',\n",
       "   'man-made',\n",
       "   'wood',\n",
       "   'glass',\n",
       "   'glossy',\n",
       "   'indoor lighting',\n",
       "   'cleaning',\n",
       "   'matte'],\n",
       "  'file_id': 'f5c3f4fdf9574f82b1327692c9b4ba5b',\n",
       "  'category': 'clean'}]"
      ]
     },
     "execution_count": 9,
     "metadata": {},
     "output_type": "execute_result"
    }
   ],
   "source": [
    "res"
   ]
  },
  {
   "cell_type": "code",
   "execution_count": 10,
   "metadata": {
    "ExecuteTime": {
     "end_time": "2020-04-24T01:29:00.942189Z",
     "start_time": "2020-04-24T01:29:00.936373Z"
    }
   },
   "outputs": [
    {
     "data": {
      "text/plain": [
       "[{'285da7280747440783b6a88d480ea065': '/home/prasannals/object_summary/data/messy_vs_clean/sample/messy/1.png'},\n",
       " {'985a6d83e3f24892a8a1a62cf3f34ff4': '/home/prasannals/object_summary/data/messy_vs_clean/sample/messy/0.png'},\n",
       " {'5d3bf0abef7d41b7bcfcff0e2fedfe18': '/home/prasannals/object_summary/data/messy_vs_clean/sample/clean/1.png'},\n",
       " {'f5c3f4fdf9574f82b1327692c9b4ba5b': '/home/prasannals/object_summary/data/messy_vs_clean/sample/clean/0.png'}]"
      ]
     },
     "execution_count": 10,
     "metadata": {},
     "output_type": "execute_result"
    }
   ],
   "source": [
    "fmap"
   ]
  },
  {
   "cell_type": "code",
   "execution_count": null,
   "metadata": {},
   "outputs": [],
   "source": []
  }
 ],
 "metadata": {
  "file_extension": ".py",
  "kernelspec": {
   "display_name": "Python 3",
   "language": "python",
   "name": "python3"
  },
  "language_info": {
   "codemirror_mode": {
    "name": "ipython",
    "version": 3
   },
   "file_extension": ".py",
   "mimetype": "text/x-python",
   "name": "python",
   "nbconvert_exporter": "python",
   "pygments_lexer": "ipython3",
   "version": "3.6.10"
  },
  "mimetype": "text/x-python",
  "name": "python",
  "npconvert_exporter": "python",
  "pygments_lexer": "ipython3",
  "version": 3
 },
 "nbformat": 4,
 "nbformat_minor": 2
}
